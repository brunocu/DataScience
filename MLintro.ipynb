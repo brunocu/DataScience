{
  "nbformat": 4,
  "nbformat_minor": 0,
  "metadata": {
    "colab": {
      "name": "MLintro.ipynb",
      "version": "0.3.2",
      "provenance": [],
      "toc_visible": true,
      "include_colab_link": true
    },
    "kernelspec": {
      "name": "python3",
      "display_name": "Python 3"
    },
    "language_info": {
      "codemirror_mode": {
        "name": "ipython",
        "version": 3
      },
      "file_extension": ".py",
      "mimetype": "text/x-python",
      "name": "python",
      "nbconvert_exporter": "python",
      "pygments_lexer": "ipython3",
      "version": "3.7.2"
    }
  },
  "cells": [
    {
      "cell_type": "markdown",
      "metadata": {
        "id": "view-in-github",
        "colab_type": "text"
      },
      "source": [
        "<a href=\"https://colab.research.google.com/github/brunocu/DataScience/blob/master/MLintro.ipynb\" target=\"_parent\"><img src=\"https://colab.research.google.com/assets/colab-badge.svg\" alt=\"Open In Colab\"/></a>"
      ]
    },
    {
      "cell_type": "markdown",
      "metadata": {
        "id": "zPSVnrLNhpe8",
        "colab_type": "text"
      },
      "source": [
        "# Introduction to Machine Learning"
      ]
    },
    {
      "cell_type": "markdown",
      "metadata": {
        "colab_type": "text",
        "id": "RqifEW5KXFEl"
      },
      "source": [
        "> Al trabajar en **Jupyter** usar `%matplotlib notebook` para visualizar gráficas interactivas o `%matplot inline`. En Python normal `plt.show`\n",
        "\n",
        "> Quieres ver este archivo en [nbviewer](https://nbviewer.jupyter.org/github/brunocu/DataScience/blob/master/MLintro.ipynb)?"
      ]
    },
    {
      "cell_type": "code",
      "metadata": {
        "colab_type": "code",
        "id": "alwSiUlfWNgx",
        "colab": {}
      },
      "source": [
        "%matplotlib inline\n",
        "\n",
        "import numpy as np\n",
        "import matplotlib.pyplot as plt\n",
        "import pandas as pd\n",
        "import mglearn\n",
        "from IPython.display import display"
      ],
      "execution_count": 0,
      "outputs": []
    },
    {
      "cell_type": "markdown",
      "metadata": {
        "id": "PeqBW6RqiKn_",
        "colab_type": "text"
      },
      "source": [
        "## Numpy\n",
        "\n",
        "<img src=\"https://proxy.duckduckgo.com/iu/?u=https%3A%2F%2Fnumfocus.org%2Fwp-content%2Fuploads%2F2016%2F07%2Fnumpy-logo-300.png&f=1\" alt=\"Numpy\" height=\"80\">\n",
        "\n",
        "\n",
        "```python\n",
        "import numpy as np\n",
        "```\n",
        "\n",
        "Principal función de Numpy: Introduce arrays (matrices)\n",
        "\n",
        "**Arrays**: Contenedor eficiente en memoria que proporciona operaciones numéricas rápidas.\n",
        "\n",
        "Ejemplos de uso de matrices en Machine Learning:\n",
        "\n",
        "- Valores de un experimento/simulación en pasos de tiempo discretos.\n",
        "- Señal registrada por un dispositivo de medición, por ejemplo, una onda sonora.\n",
        "- Píxeles de una imagen, nivel de gris o color.\n",
        "- Datos 3D medidos en diferentes posiciones XYZ."
      ]
    },
    {
      "cell_type": "markdown",
      "metadata": {
        "id": "W8AXeqy_uROw",
        "colab_type": "text"
      },
      "source": [
        "### Creación de Arrays"
      ]
    },
    {
      "cell_type": "markdown",
      "metadata": {
        "id": "D4QfTv92vLyP",
        "colab_type": "text"
      },
      "source": [
        "#### Espaciados uniformemente"
      ]
    },
    {
      "cell_type": "code",
      "metadata": {
        "id": "pIZamCY-usde",
        "colab_type": "code",
        "outputId": "48d2cb60-4b7b-4f28-ff06-3433112b41d7",
        "colab": {
          "base_uri": "https://localhost:8080/",
          "height": 34
        }
      },
      "source": [
        "a = np.arange(10) # 0 .. n-1  (!)\n",
        "a"
      ],
      "execution_count": 0,
      "outputs": [
        {
          "output_type": "execute_result",
          "data": {
            "text/plain": [
              "array([0, 1, 2, 3, 4, 5, 6, 7, 8, 9])"
            ]
          },
          "metadata": {
            "tags": []
          },
          "execution_count": 13
        }
      ]
    },
    {
      "cell_type": "code",
      "metadata": {
        "id": "eDMDIUVKu0UA",
        "colab_type": "code",
        "outputId": "697d3449-65bf-4e90-b725-ee11a0016c34",
        "colab": {
          "base_uri": "https://localhost:8080/",
          "height": 34
        }
      },
      "source": [
        "b = np.arange(1, 9, 2) # start, end (exclusive), step\n",
        "b"
      ],
      "execution_count": 0,
      "outputs": [
        {
          "output_type": "execute_result",
          "data": {
            "text/plain": [
              "array([1, 3, 5, 7])"
            ]
          },
          "metadata": {
            "tags": []
          },
          "execution_count": 14
        }
      ]
    },
    {
      "cell_type": "markdown",
      "metadata": {
        "id": "EerrEg4qvVQh",
        "colab_type": "text"
      },
      "source": [
        "#### Por cantidad de puntos"
      ]
    },
    {
      "cell_type": "code",
      "metadata": {
        "id": "QBJlAn_5viKI",
        "colab_type": "code",
        "outputId": "de8efc37-bd6b-43fb-8173-67698313a6fa",
        "colab": {
          "base_uri": "https://localhost:8080/",
          "height": 34
        }
      },
      "source": [
        "c = np.linspace(0, 1, 6)   # start, end, num-points\n",
        "c"
      ],
      "execution_count": 0,
      "outputs": [
        {
          "output_type": "execute_result",
          "data": {
            "text/plain": [
              "array([0. , 0.2, 0.4, 0.6, 0.8, 1. ])"
            ]
          },
          "metadata": {
            "tags": []
          },
          "execution_count": 17
        }
      ]
    },
    {
      "cell_type": "markdown",
      "metadata": {
        "id": "6Umx8kNewNf6",
        "colab_type": "text"
      },
      "source": [
        "#### Matrices comunes"
      ]
    },
    {
      "cell_type": "code",
      "metadata": {
        "id": "i44Ilka6wPKg",
        "colab_type": "code",
        "outputId": "f76a6146-992e-4a9a-dfd9-693c288ca853",
        "colab": {
          "base_uri": "https://localhost:8080/",
          "height": 69
        }
      },
      "source": [
        "d = np.ones((3, 3))    # Matriz de (n, m) tamaño llena de 1\n",
        "d"
      ],
      "execution_count": 0,
      "outputs": [
        {
          "output_type": "execute_result",
          "data": {
            "text/plain": [
              "array([[1., 1., 1.],\n",
              "       [1., 1., 1.],\n",
              "       [1., 1., 1.]])"
            ]
          },
          "metadata": {
            "tags": []
          },
          "execution_count": 18
        }
      ]
    },
    {
      "cell_type": "code",
      "metadata": {
        "id": "vjcZ9SmZxnUJ",
        "colab_type": "code",
        "outputId": "5d1ac12c-221a-4367-c56b-5a3f85ed46a0",
        "colab": {
          "base_uri": "https://localhost:8080/",
          "height": 52
        }
      },
      "source": [
        "e = np.zeros((2, 2))    # Matriz de (n, m) tamaño llena de 0 (Matriz cero)\n",
        "e"
      ],
      "execution_count": 0,
      "outputs": [
        {
          "output_type": "execute_result",
          "data": {
            "text/plain": [
              "array([[0., 0.],\n",
              "       [0., 0.]])"
            ]
          },
          "metadata": {
            "tags": []
          },
          "execution_count": 19
        }
      ]
    },
    {
      "cell_type": "code",
      "metadata": {
        "id": "HJ2JyDS4x02e",
        "colab_type": "code",
        "outputId": "a48f9b00-d9f9-4977-d155-dd077489e84f",
        "colab": {
          "base_uri": "https://localhost:8080/",
          "height": 69
        }
      },
      "source": [
        "f = np.eye(3)    # Matriz identidad\n",
        "f"
      ],
      "execution_count": 0,
      "outputs": [
        {
          "output_type": "execute_result",
          "data": {
            "text/plain": [
              "array([[1., 0., 0.],\n",
              "       [0., 1., 0.],\n",
              "       [0., 0., 1.]])"
            ]
          },
          "metadata": {
            "tags": []
          },
          "execution_count": 20
        }
      ]
    },
    {
      "cell_type": "code",
      "metadata": {
        "id": "o8a2_xXiyBm2",
        "colab_type": "code",
        "outputId": "2f35606d-8e1c-4e06-ddfc-2ae7c4637e9b",
        "colab": {
          "base_uri": "https://localhost:8080/",
          "height": 86
        }
      },
      "source": [
        "g = np.diag(np.array([1, 2, 3, 4]))    # Array diagonal que toma otra array como input\n",
        "g"
      ],
      "execution_count": 0,
      "outputs": [
        {
          "output_type": "execute_result",
          "data": {
            "text/plain": [
              "array([[1, 0, 0, 0],\n",
              "       [0, 2, 0, 0],\n",
              "       [0, 0, 3, 0],\n",
              "       [0, 0, 0, 4]])"
            ]
          },
          "metadata": {
            "tags": []
          },
          "execution_count": 21
        }
      ]
    },
    {
      "cell_type": "code",
      "metadata": {
        "id": "L2poBfQTy_Sd",
        "colab_type": "code",
        "outputId": "06f05e2f-304a-4d46-ec03-03d36f35c540",
        "colab": {
          "base_uri": "https://localhost:8080/",
          "height": 34
        }
      },
      "source": [
        "h = np.random.rand(4)    # Matriz 1D con 4 valores al azar [0,1]\n",
        "h"
      ],
      "execution_count": 0,
      "outputs": [
        {
          "output_type": "execute_result",
          "data": {
            "text/plain": [
              "array([0.95595123, 0.26862446, 0.00926042, 0.5810484 ])"
            ]
          },
          "metadata": {
            "tags": []
          },
          "execution_count": 24
        }
      ]
    },
    {
      "cell_type": "markdown",
      "metadata": {
        "id": "WeHNVOyZm3PA",
        "colab_type": "text"
      },
      "source": [
        "### Ejemplo: 1D Array"
      ]
    },
    {
      "cell_type": "code",
      "metadata": {
        "id": "tGKMvD5om7SU",
        "colab_type": "code",
        "outputId": "0f70b6a9-15f9-4315-dd9e-c6b37970c02e",
        "colab": {
          "base_uri": "https://localhost:8080/",
          "height": 34
        }
      },
      "source": [
        "a = np.array([0, 1, 2, 3])\n",
        "a"
      ],
      "execution_count": 0,
      "outputs": [
        {
          "output_type": "execute_result",
          "data": {
            "text/plain": [
              "array([0, 1, 2, 3])"
            ]
          },
          "metadata": {
            "tags": []
          },
          "execution_count": 5
        }
      ]
    },
    {
      "cell_type": "code",
      "metadata": {
        "id": "I0PsutLOnEWw",
        "colab_type": "code",
        "outputId": "db6cacbb-c9fe-42f6-d917-4168d406d5fe",
        "colab": {
          "base_uri": "https://localhost:8080/",
          "height": 34
        }
      },
      "source": [
        "a.ndim"
      ],
      "execution_count": 0,
      "outputs": [
        {
          "output_type": "execute_result",
          "data": {
            "text/plain": [
              "1"
            ]
          },
          "metadata": {
            "tags": []
          },
          "execution_count": 6
        }
      ]
    },
    {
      "cell_type": "code",
      "metadata": {
        "id": "xzJgrb_bnHI-",
        "colab_type": "code",
        "outputId": "2f2bb95b-97d6-4537-91c9-d3683a565cc4",
        "colab": {
          "base_uri": "https://localhost:8080/",
          "height": 34
        }
      },
      "source": [
        "a.shape"
      ],
      "execution_count": 0,
      "outputs": [
        {
          "output_type": "execute_result",
          "data": {
            "text/plain": [
              "(4,)"
            ]
          },
          "metadata": {
            "tags": []
          },
          "execution_count": 7
        }
      ]
    },
    {
      "cell_type": "code",
      "metadata": {
        "id": "UVrCbz2QnKLM",
        "colab_type": "code",
        "outputId": "de53a01d-6e06-4591-af74-22ab517f96cc",
        "colab": {
          "base_uri": "https://localhost:8080/",
          "height": 34
        }
      },
      "source": [
        "len(a)"
      ],
      "execution_count": 0,
      "outputs": [
        {
          "output_type": "execute_result",
          "data": {
            "text/plain": [
              "4"
            ]
          },
          "metadata": {
            "tags": []
          },
          "execution_count": 8
        }
      ]
    },
    {
      "cell_type": "markdown",
      "metadata": {
        "id": "POEZva3QndJT",
        "colab_type": "text"
      },
      "source": [
        "### Ejemplo: 2D, 3D Array"
      ]
    },
    {
      "cell_type": "code",
      "metadata": {
        "id": "78u6KtZens3K",
        "colab_type": "code",
        "outputId": "087ad6c2-95df-4a62-f3a6-0ac843c3c904",
        "colab": {
          "base_uri": "https://localhost:8080/",
          "height": 52
        }
      },
      "source": [
        "b = np.array([[0, 1, 2], [3, 4, 5]])    # 2 x 3 array (array de arrays)\n",
        "b"
      ],
      "execution_count": 0,
      "outputs": [
        {
          "output_type": "execute_result",
          "data": {
            "text/plain": [
              "array([[0, 1, 2],\n",
              "       [3, 4, 5]])"
            ]
          },
          "metadata": {
            "tags": []
          },
          "execution_count": 9
        }
      ]
    },
    {
      "cell_type": "code",
      "metadata": {
        "id": "_pGIzfdNny9W",
        "colab_type": "code",
        "outputId": "ff8d4409-25e5-49d0-a939-3663b98b0011",
        "colab": {
          "base_uri": "https://localhost:8080/",
          "height": 34
        }
      },
      "source": [
        "b.ndim"
      ],
      "execution_count": 0,
      "outputs": [
        {
          "output_type": "execute_result",
          "data": {
            "text/plain": [
              "2"
            ]
          },
          "metadata": {
            "tags": []
          },
          "execution_count": 10
        }
      ]
    },
    {
      "cell_type": "code",
      "metadata": {
        "id": "xjyFTX3Tn60h",
        "colab_type": "code",
        "outputId": "685646a3-47f3-417c-9d90-a9ef31e77bc5",
        "colab": {
          "base_uri": "https://localhost:8080/",
          "height": 34
        }
      },
      "source": [
        "b.shape"
      ],
      "execution_count": 0,
      "outputs": [
        {
          "output_type": "execute_result",
          "data": {
            "text/plain": [
              "(2, 3)"
            ]
          },
          "metadata": {
            "tags": []
          },
          "execution_count": 11
        }
      ]
    },
    {
      "cell_type": "code",
      "metadata": {
        "id": "9aS5MxHln9yf",
        "colab_type": "code",
        "outputId": "9c53c579-2072-4af1-b11f-85f19734e062",
        "colab": {
          "base_uri": "https://localhost:8080/",
          "height": 34
        }
      },
      "source": [
        "\n",
        "len(b)    # regresa el tamaño de la \"primera\" dimensión"
      ],
      "execution_count": 0,
      "outputs": [
        {
          "output_type": "execute_result",
          "data": {
            "text/plain": [
              "2"
            ]
          },
          "metadata": {
            "tags": []
          },
          "execution_count": 12
        }
      ]
    },
    {
      "cell_type": "markdown",
      "metadata": {
        "id": "eNHvCn2X0yA_",
        "colab_type": "text"
      },
      "source": [
        "### Operaciones con matrices"
      ]
    },
    {
      "cell_type": "markdown",
      "metadata": {
        "id": "8Y26pQdO1UM7",
        "colab_type": "text"
      },
      "source": [
        "> Todas las operaciones aritméticas con escalares se maneja por elementos."
      ]
    },
    {
      "cell_type": "code",
      "metadata": {
        "id": "v6Z5JqAy1aML",
        "colab_type": "code",
        "colab": {}
      },
      "source": [
        "a = np.array([1, 2, 3, 4])"
      ],
      "execution_count": 0,
      "outputs": []
    },
    {
      "cell_type": "code",
      "metadata": {
        "id": "Zw4ieGQs1cZs",
        "colab_type": "code",
        "colab": {
          "base_uri": "https://localhost:8080/",
          "height": 34
        },
        "outputId": "8246054d-909e-49ed-92f6-7d9366852df1"
      },
      "source": [
        "a + 1    # Suma de una matriz y un escalar"
      ],
      "execution_count": 38,
      "outputs": [
        {
          "output_type": "execute_result",
          "data": {
            "text/plain": [
              "array([2, 3, 4, 5])"
            ]
          },
          "metadata": {
            "tags": []
          },
          "execution_count": 38
        }
      ]
    },
    {
      "cell_type": "code",
      "metadata": {
        "id": "ibJTcWO61eRP",
        "colab_type": "code",
        "colab": {
          "base_uri": "https://localhost:8080/",
          "height": 34
        },
        "outputId": "4f4eca21-0fbe-4015-d66d-d84c9e931356"
      },
      "source": [
        "a * 5    # Producto por un escalar"
      ],
      "execution_count": 39,
      "outputs": [
        {
          "output_type": "execute_result",
          "data": {
            "text/plain": [
              "array([ 5, 10, 15, 20])"
            ]
          },
          "metadata": {
            "tags": []
          },
          "execution_count": 39
        }
      ]
    },
    {
      "cell_type": "code",
      "metadata": {
        "id": "qYO17MQI1gEa",
        "colab_type": "code",
        "colab": {
          "base_uri": "https://localhost:8080/",
          "height": 34
        },
        "outputId": "964d0183-b7b3-45a1-d44b-4d36f33aaa38"
      },
      "source": [
        "a**2    # Matriz elevado a un escalar"
      ],
      "execution_count": 40,
      "outputs": [
        {
          "output_type": "execute_result",
          "data": {
            "text/plain": [
              "array([ 1,  4,  9, 16])"
            ]
          },
          "metadata": {
            "tags": []
          },
          "execution_count": 40
        }
      ]
    },
    {
      "cell_type": "code",
      "metadata": {
        "id": "1ja8cLcQ1nHX",
        "colab_type": "code",
        "colab": {
          "base_uri": "https://localhost:8080/",
          "height": 34
        },
        "outputId": "2fac88f7-de31-4059-8ef4-776b6b433e9b"
      },
      "source": [
        "2**a    # Escalar elevado a una matriz"
      ],
      "execution_count": 41,
      "outputs": [
        {
          "output_type": "execute_result",
          "data": {
            "text/plain": [
              "array([ 2,  4,  8, 16])"
            ]
          },
          "metadata": {
            "tags": []
          },
          "execution_count": 41
        }
      ]
    },
    {
      "cell_type": "markdown",
      "metadata": {
        "id": "t3YPUUva2fH3",
        "colab_type": "text"
      },
      "source": [
        "**Multiplicación de arrays NO es lo mismo que multiplicación de matrices**\n",
        "\n",
        "En Numpy, al multiplicar `array * array` se limita a multiplicar los valores que se encuentran en la misma posición."
      ]
    },
    {
      "cell_type": "code",
      "metadata": {
        "id": "jXITiKEB2y19",
        "colab_type": "code",
        "colab": {
          "base_uri": "https://localhost:8080/",
          "height": 68
        },
        "outputId": "99b31c4c-926a-4d61-a5e9-8e4a5bedbaac"
      },
      "source": [
        "b = np.ones((3,3))\n",
        "b"
      ],
      "execution_count": 46,
      "outputs": [
        {
          "output_type": "execute_result",
          "data": {
            "text/plain": [
              "array([[1., 1., 1.],\n",
              "       [1., 1., 1.],\n",
              "       [1., 1., 1.]])"
            ]
          },
          "metadata": {
            "tags": []
          },
          "execution_count": 46
        }
      ]
    },
    {
      "cell_type": "code",
      "metadata": {
        "id": "fqOGOdB_3ZYG",
        "colab_type": "code",
        "colab": {
          "base_uri": "https://localhost:8080/",
          "height": 68
        },
        "outputId": "50952854-ad2f-49fd-8d77-83c7d448baa4"
      },
      "source": [
        "b * b"
      ],
      "execution_count": 47,
      "outputs": [
        {
          "output_type": "execute_result",
          "data": {
            "text/plain": [
              "array([[1., 1., 1.],\n",
              "       [1., 1., 1.],\n",
              "       [1., 1., 1.]])"
            ]
          },
          "metadata": {
            "tags": []
          },
          "execution_count": 47
        }
      ]
    },
    {
      "cell_type": "code",
      "metadata": {
        "id": "57HJfHPT51vF",
        "colab_type": "code",
        "colab": {
          "base_uri": "https://localhost:8080/",
          "height": 68
        },
        "outputId": "18462767-308f-4a5d-dc8d-dcf89caf4e89"
      },
      "source": [
        "b.dot(b)    # Multiplicación de Matrices"
      ],
      "execution_count": 48,
      "outputs": [
        {
          "output_type": "execute_result",
          "data": {
            "text/plain": [
              "array([[3., 3., 3.],\n",
              "       [3., 3., 3.],\n",
              "       [3., 3., 3.]])"
            ]
          },
          "metadata": {
            "tags": []
          },
          "execution_count": 48
        }
      ]
    },
    {
      "cell_type": "markdown",
      "metadata": {
        "id": "nn8PeEJv7zDN",
        "colab_type": "text"
      },
      "source": [
        "> `numpy.linalg` implementa álgebra lineal básica, como la resolución de sistemas lineales, descomposición de valores singulares, etc."
      ]
    },
    {
      "cell_type": "markdown",
      "metadata": {
        "id": "hiqjjUAVh_Eh",
        "colab_type": "text"
      },
      "source": [
        "## Array Visualization (with matplotlib)"
      ]
    },
    {
      "cell_type": "markdown",
      "metadata": {
        "id": "hRRlgr53hpfN",
        "colab_type": "text"
      },
      "source": [
        "### 1D Plotting"
      ]
    },
    {
      "cell_type": "code",
      "metadata": {
        "scrolled": true,
        "id": "nbnCtd-7hpfQ",
        "colab_type": "code",
        "outputId": "1595045f-7692-41b1-a296-d50179f5621a",
        "colab": {
          "base_uri": "https://localhost:8080/",
          "height": 286
        }
      },
      "source": [
        "x = np.linspace(0, 3, 20)\n",
        "y = np.linspace(0, 9, 20)\n",
        "plt.plot(x, y)       # line plot    \n",
        "\n",
        "plt.plot(x, y, 'o')  # dot plot"
      ],
      "execution_count": 0,
      "outputs": [
        {
          "output_type": "execute_result",
          "data": {
            "text/plain": [
              "[<matplotlib.lines.Line2D at 0x7fe4f4de74e0>]"
            ]
          },
          "metadata": {
            "tags": []
          },
          "execution_count": 2
        },
        {
          "output_type": "display_data",
          "data": {
            "image/png": "[encoded data removed]",
            "text/plain": [
              "<Figure size 432x288 with 1 Axes>"
            ]
          },
          "metadata": {
            "tags": []
          }
        }
      ]
    },
    {
      "cell_type": "markdown",
      "metadata": {
        "id": "3Aaz3kNjhpfW",
        "colab_type": "text"
      },
      "source": [
        "### 2D Plot"
      ]
    },
    {
      "cell_type": "code",
      "metadata": {
        "id": "oWmcwOEKhpfZ",
        "colab_type": "code",
        "outputId": "93ff770e-e123-43c8-deeb-bf3aa37274f2",
        "colab": {
          "base_uri": "https://localhost:8080/",
          "height": 286
        }
      },
      "source": [
        "image = np.random.rand(30, 30)\n",
        "plt.imshow(image, cmap=plt.cm.hot)    \n",
        "\n",
        "plt.colorbar()"
      ],
      "execution_count": 51,
      "outputs": [
        {
          "output_type": "execute_result",
          "data": {
            "text/plain": [
              "<matplotlib.colorbar.Colorbar at 0x7fa6e82ab160>"
            ]
          },
          "metadata": {
            "tags": []
          },
          "execution_count": 51
        },
        {
          "output_type": "display_data",
          "data": {
            "image/png": "[encoded data removed]",
            "text/plain": [
              "<Figure size 432x288 with 2 Axes>"
            ]
          },
          "metadata": {
            "tags": []
          }
        }
      ]
    },
    {
      "cell_type": "markdown",
      "metadata": {
        "id": "Dg99qPCm8vqb",
        "colab_type": "text"
      },
      "source": [
        "## Ejemplo: Difusión mediante un algoritmo de desplazamiento aleatorio\n",
        "\n",
        "Consideremos un simple proceso de salto aleatorio en 1D: en cada paso un \"caminante\" salta a la derecha o a la izquierda con igual probabilidad.\n",
        "\n",
        "Estamos interesados en encontrar la distancia típica desde el origen de un caminante al azar después de `t` saltos a la izquierda o a la derecha. Vamos a simular a muchos \"caminantes\" para encontrar esta ley, usando computación en array: vamos a crear un array 2D con las \"historias\" (cada caminante tiene una historia) en una dirección, y el tiempo en la otra:"
      ]
    },
    {
      "cell_type": "code",
      "metadata": {
        "id": "9v9hIweq9wck",
        "colab_type": "code",
        "colab": {
          "base_uri": "https://localhost:8080/",
          "height": 34
        },
        "outputId": "8a681ba0-725b-4ab5-b3bf-ccf323cf4bca"
      },
      "source": [
        "n_stories = 1000 # número de caminantes\n",
        "t_max = 200      # tiempo en el que seguimos al caminante\n",
        "\n",
        "t = np.arange(t_max)\n",
        "steps = 2 * np.random.randint(0, 1 + 1, (n_stories, t_max)) - 1\n",
        "\n",
        "np.random.randint(0,1+1, (n_stories, t_max))\n",
        "\n",
        "np.unique(steps)    # Regresa todos los valores únicos de nuestro array. Verificar que todos sean -1 ó 1"
      ],
      "execution_count": 56,
      "outputs": [
        {
          "output_type": "execute_result",
          "data": {
            "text/plain": [
              "array([-1,  1])"
            ]
          },
          "metadata": {
            "tags": []
          },
          "execution_count": 56
        }
      ]
    },
    {
      "cell_type": "code",
      "metadata": {
        "id": "ri8EL0ZADt55",
        "colab_type": "code",
        "colab": {
          "base_uri": "https://localhost:8080/",
          "height": 225
        },
        "outputId": "59bf57c6-b15d-4b4e-a910-7183334e4277"
      },
      "source": [
        "# Construimos las caminatas sumando pasos a lo largo del tiempo:\n",
        "positions = np.cumsum(steps, axis=1)   # axis = 1: tiempo\n",
        "sq_distance = positions**2\n",
        "\n",
        "# Obtenemos la media en el eje de las historias:\n",
        "mean_sq_distance = np.mean(sq_distance, axis=0)\n",
        "\n",
        "# Y graficamos los resultados\n",
        "plt.figure(figsize=(4, 3)) \n",
        "\n",
        "plt.plot(t, np.sqrt(mean_sq_distance), 'g.', t, np.sqrt(t), 'y-') \n",
        "\n",
        "plt.xlabel(r\"$t$\") \n",
        "\n",
        "plt.ylabel(r\"$\\sqrt{\\langle (\\delta x)^2 \\rangle}$\") \n",
        "\n",
        "plt.tight_layout()"
      ],
      "execution_count": 59,
      "outputs": [
        {
          "output_type": "display_data",
          "data": {
            "image/png": "[encoded data removed]",
            "text/plain": [
              "<Figure size 288x216 with 1 Axes>"
            ]
          },
          "metadata": {
            "tags": []
          }
        }
      ]
    }
  ]
}