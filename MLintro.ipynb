{
  "nbformat": 4,
  "nbformat_minor": 0,
  "metadata": {
    "colab": {
      "name": "MLintro.ipynb",
      "version": "0.3.2",
      "provenance": [],
      "toc_visible": true,
      "include_colab_link": true
    },
    "kernelspec": {
      "name": "python3",
      "display_name": "Python 3"
    },
    "language_info": {
      "codemirror_mode": {
        "name": "ipython",
        "version": 3
      },
      "file_extension": ".py",
      "mimetype": "text/x-python",
      "name": "python",
      "nbconvert_exporter": "python",
      "pygments_lexer": "ipython3",
      "version": "3.7.2"
    }
  },
  "cells": [
    {
      "cell_type": "markdown",
      "metadata": {
        "id": "view-in-github",
        "colab_type": "text"
      },
      "source": [
        "<a href=\"https://colab.research.google.com/github/brunocu/DataScience/blob/master/MLintro.ipynb\" target=\"_parent\"><img src=\"https://colab.research.google.com/assets/colab-badge.svg\" alt=\"Open In Colab\"/></a>"
      ]
    },
    {
      "cell_type": "markdown",
      "metadata": {
        "id": "zPSVnrLNhpe8",
        "colab_type": "text"
      },
      "source": [
        "# Introduction to Machine Learning"
      ]
    },
    {
      "cell_type": "markdown",
      "metadata": {
        "colab_type": "text",
        "id": "RqifEW5KXFEl"
      },
      "source": [
        "> Al trabajar en **Jupyter** usar `%matplotlib notebook` para visualizar gráficas interactivas o `%matplot inline`. En Python normal `plt.show`\n",
        "\n",
        "> Quieres ver este archivo en [nbviewer](https://nbviewer.jupyter.org/github/brunocu/DataScience/blob/master/MLintro.ipynb)?"
      ]
    },
    {
      "cell_type": "code",
      "metadata": {
        "colab_type": "code",
        "id": "alwSiUlfWNgx",
        "colab": {}
      },
      "source": [
        "%matplotlib inline\n",
        "\n",
        "import numpy as np\n",
        "import matplotlib.pyplot as plt\n",
        "import pandas as pd\n",
        "import mglearn\n",
        "from IPython.display import display"
      ],
      "execution_count": 0,
      "outputs": []
    },
    {
      "cell_type": "markdown",
      "metadata": {
        "id": "PeqBW6RqiKn_",
        "colab_type": "text"
      },
      "source": [
        "## Numpy\n",
        "\n",
        "<img src=\"https://proxy.duckduckgo.com/iu/?u=https%3A%2F%2Fnumfocus.org%2Fwp-content%2Fuploads%2F2016%2F07%2Fnumpy-logo-300.png&f=1\" alt=\"Numpy\" height=\"80\">\n",
        "\n",
        "\n",
        "```python\n",
        "import numpy as np\n",
        "```\n",
        "\n",
        "Principal función de Numpy: Introduce arrays (matrices)\n",
        "\n",
        "**Arrays**: Contenedor eficiente en memoria que proporciona operaciones numéricas rápidas.\n",
        "\n",
        "Ejemplos de uso de matrices en Machine Learning:\n",
        "\n",
        "- Valores de un experimento/simulación en pasos de tiempo discretos.\n",
        "- Señal registrada por un dispositivo de medición, por ejemplo, una onda sonora.\n",
        "- Píxeles de una imagen, nivel de gris o color.\n",
        "- Datos 3D medidos en diferentes posiciones XYZ."
      ]
    },
    {
      "cell_type": "markdown",
      "metadata": {
        "id": "-cro79b7Pnmd",
        "colab_type": "text"
      },
      "source": [
        "### TL;DR\n",
        "\n",
        "- Cómo crear arrays: `array`, `arange`, `ones`, `zeros`.\n",
        "- Conocer la forma del array con `array.shape`, ajustar la forma del array mediante `reshape` o aplanarlo con `ravel`.\n",
        "- Modificar los valores de un array."
      ]
    },
    {
      "cell_type": "markdown",
      "metadata": {
        "id": "W8AXeqy_uROw",
        "colab_type": "text"
      },
      "source": [
        "### Creación de Arrays"
      ]
    },
    {
      "cell_type": "markdown",
      "metadata": {
        "id": "D4QfTv92vLyP",
        "colab_type": "text"
      },
      "source": [
        "#### Espaciados uniformemente"
      ]
    },
    {
      "cell_type": "code",
      "metadata": {
        "id": "pIZamCY-usde",
        "colab_type": "code",
        "outputId": "45f9f3d5-eab1-454a-fec2-dc664e967870",
        "colab": {
          "base_uri": "https://localhost:8080/",
          "height": 34
        }
      },
      "source": [
        "a = np.arange(10) # 0 .. n-1  (!)\n",
        "a"
      ],
      "execution_count": 2,
      "outputs": [
        {
          "output_type": "execute_result",
          "data": {
            "text/plain": [
              "array([0, 1, 2, 3, 4, 5, 6, 7, 8, 9])"
            ]
          },
          "metadata": {
            "tags": []
          },
          "execution_count": 2
        }
      ]
    },
    {
      "cell_type": "code",
      "metadata": {
        "id": "eDMDIUVKu0UA",
        "colab_type": "code",
        "outputId": "d45d9d34-559c-4c34-e565-7a055e785431",
        "colab": {
          "base_uri": "https://localhost:8080/",
          "height": 34
        }
      },
      "source": [
        "b = np.arange(1, 9, 2) # start, end (exclusive), step\n",
        "b"
      ],
      "execution_count": 3,
      "outputs": [
        {
          "output_type": "execute_result",
          "data": {
            "text/plain": [
              "array([1, 3, 5, 7])"
            ]
          },
          "metadata": {
            "tags": []
          },
          "execution_count": 3
        }
      ]
    },
    {
      "cell_type": "markdown",
      "metadata": {
        "id": "EerrEg4qvVQh",
        "colab_type": "text"
      },
      "source": [
        "#### Por cantidad de puntos"
      ]
    },
    {
      "cell_type": "code",
      "metadata": {
        "id": "QBJlAn_5viKI",
        "colab_type": "code",
        "outputId": "e2fc27fa-7ed6-4dba-e3d8-d89c6c84e699",
        "colab": {
          "base_uri": "https://localhost:8080/",
          "height": 34
        }
      },
      "source": [
        "c = np.linspace(0, 1, 6)   # start, end, num-points\n",
        "c"
      ],
      "execution_count": 4,
      "outputs": [
        {
          "output_type": "execute_result",
          "data": {
            "text/plain": [
              "array([0. , 0.2, 0.4, 0.6, 0.8, 1. ])"
            ]
          },
          "metadata": {
            "tags": []
          },
          "execution_count": 4
        }
      ]
    },
    {
      "cell_type": "markdown",
      "metadata": {
        "id": "6Umx8kNewNf6",
        "colab_type": "text"
      },
      "source": [
        "#### Matrices comunes"
      ]
    },
    {
      "cell_type": "code",
      "metadata": {
        "id": "i44Ilka6wPKg",
        "colab_type": "code",
        "outputId": "43687e40-eecf-42bd-cff2-d8eed31d7604",
        "colab": {
          "base_uri": "https://localhost:8080/",
          "height": 68
        }
      },
      "source": [
        "d = np.ones((3, 3))    # Matriz de (n, m) tamaño llena de 1\n",
        "d"
      ],
      "execution_count": 5,
      "outputs": [
        {
          "output_type": "execute_result",
          "data": {
            "text/plain": [
              "array([[1., 1., 1.],\n",
              "       [1., 1., 1.],\n",
              "       [1., 1., 1.]])"
            ]
          },
          "metadata": {
            "tags": []
          },
          "execution_count": 5
        }
      ]
    },
    {
      "cell_type": "code",
      "metadata": {
        "id": "vjcZ9SmZxnUJ",
        "colab_type": "code",
        "outputId": "fb9cc4a8-0482-43e0-9752-0683032ccda0",
        "colab": {
          "base_uri": "https://localhost:8080/",
          "height": 51
        }
      },
      "source": [
        "e = np.zeros((2, 2))    # Matriz de (n, m) tamaño llena de 0 (Matriz cero)\n",
        "e"
      ],
      "execution_count": 6,
      "outputs": [
        {
          "output_type": "execute_result",
          "data": {
            "text/plain": [
              "array([[0., 0.],\n",
              "       [0., 0.]])"
            ]
          },
          "metadata": {
            "tags": []
          },
          "execution_count": 6
        }
      ]
    },
    {
      "cell_type": "code",
      "metadata": {
        "id": "HJ2JyDS4x02e",
        "colab_type": "code",
        "outputId": "bd3dfd2a-af41-4250-aca9-5bc4c01a5062",
        "colab": {
          "base_uri": "https://localhost:8080/",
          "height": 68
        }
      },
      "source": [
        "f = np.eye(3)    # Matriz identidad\n",
        "f"
      ],
      "execution_count": 7,
      "outputs": [
        {
          "output_type": "execute_result",
          "data": {
            "text/plain": [
              "array([[1., 0., 0.],\n",
              "       [0., 1., 0.],\n",
              "       [0., 0., 1.]])"
            ]
          },
          "metadata": {
            "tags": []
          },
          "execution_count": 7
        }
      ]
    },
    {
      "cell_type": "code",
      "metadata": {
        "id": "o8a2_xXiyBm2",
        "colab_type": "code",
        "outputId": "54c28da6-d020-4ad3-cac0-1c0c5c409270",
        "colab": {
          "base_uri": "https://localhost:8080/",
          "height": 85
        }
      },
      "source": [
        "g = np.diag(np.array([1, 2, 3, 4]))    # Array diagonal que toma otra array como input\n",
        "g"
      ],
      "execution_count": 8,
      "outputs": [
        {
          "output_type": "execute_result",
          "data": {
            "text/plain": [
              "array([[1, 0, 0, 0],\n",
              "       [0, 2, 0, 0],\n",
              "       [0, 0, 3, 0],\n",
              "       [0, 0, 0, 4]])"
            ]
          },
          "metadata": {
            "tags": []
          },
          "execution_count": 8
        }
      ]
    },
    {
      "cell_type": "code",
      "metadata": {
        "id": "L2poBfQTy_Sd",
        "colab_type": "code",
        "outputId": "ab616ada-e902-4e85-aaf9-d1c1018cd172",
        "colab": {
          "base_uri": "https://localhost:8080/",
          "height": 34
        }
      },
      "source": [
        "h = np.random.rand(4)    # Matriz 1D con 4 valores al azar [0,1]\n",
        "h"
      ],
      "execution_count": 9,
      "outputs": [
        {
          "output_type": "execute_result",
          "data": {
            "text/plain": [
              "array([0.65841171, 0.15725997, 0.44447436, 0.82566409])"
            ]
          },
          "metadata": {
            "tags": []
          },
          "execution_count": 9
        }
      ]
    },
    {
      "cell_type": "markdown",
      "metadata": {
        "id": "WeHNVOyZm3PA",
        "colab_type": "text"
      },
      "source": [
        "### Ejemplo: 1D Array"
      ]
    },
    {
      "cell_type": "code",
      "metadata": {
        "id": "tGKMvD5om7SU",
        "colab_type": "code",
        "outputId": "3802cdb7-8e63-49c2-f55f-308480e18857",
        "colab": {
          "base_uri": "https://localhost:8080/",
          "height": 34
        }
      },
      "source": [
        "a = np.array([0, 1, 2, 3])\n",
        "a"
      ],
      "execution_count": 10,
      "outputs": [
        {
          "output_type": "execute_result",
          "data": {
            "text/plain": [
              "array([0, 1, 2, 3])"
            ]
          },
          "metadata": {
            "tags": []
          },
          "execution_count": 10
        }
      ]
    },
    {
      "cell_type": "code",
      "metadata": {
        "id": "I0PsutLOnEWw",
        "colab_type": "code",
        "outputId": "93495579-53ab-4f3d-8fa5-f6f5c8726781",
        "colab": {
          "base_uri": "https://localhost:8080/",
          "height": 34
        }
      },
      "source": [
        "a.ndim"
      ],
      "execution_count": 11,
      "outputs": [
        {
          "output_type": "execute_result",
          "data": {
            "text/plain": [
              "1"
            ]
          },
          "metadata": {
            "tags": []
          },
          "execution_count": 11
        }
      ]
    },
    {
      "cell_type": "code",
      "metadata": {
        "id": "xzJgrb_bnHI-",
        "colab_type": "code",
        "outputId": "813de9ac-0db6-4698-865c-c5938b4b83e1",
        "colab": {
          "base_uri": "https://localhost:8080/",
          "height": 34
        }
      },
      "source": [
        "a.shape"
      ],
      "execution_count": 12,
      "outputs": [
        {
          "output_type": "execute_result",
          "data": {
            "text/plain": [
              "(4,)"
            ]
          },
          "metadata": {
            "tags": []
          },
          "execution_count": 12
        }
      ]
    },
    {
      "cell_type": "code",
      "metadata": {
        "id": "UVrCbz2QnKLM",
        "colab_type": "code",
        "outputId": "6486a53c-ef08-4660-8757-41b0becb507f",
        "colab": {
          "base_uri": "https://localhost:8080/",
          "height": 34
        }
      },
      "source": [
        "len(a)"
      ],
      "execution_count": 13,
      "outputs": [
        {
          "output_type": "execute_result",
          "data": {
            "text/plain": [
              "4"
            ]
          },
          "metadata": {
            "tags": []
          },
          "execution_count": 13
        }
      ]
    },
    {
      "cell_type": "markdown",
      "metadata": {
        "id": "POEZva3QndJT",
        "colab_type": "text"
      },
      "source": [
        "### Ejemplo: 2D, 3D Array"
      ]
    },
    {
      "cell_type": "code",
      "metadata": {
        "id": "78u6KtZens3K",
        "colab_type": "code",
        "outputId": "a5a627f1-0c57-43cc-b7bc-79b58b6add29",
        "colab": {
          "base_uri": "https://localhost:8080/",
          "height": 51
        }
      },
      "source": [
        "b = np.array([[0, 1, 2], [3, 4, 5]])    # 2 x 3 array (array de arrays)\n",
        "b"
      ],
      "execution_count": 14,
      "outputs": [
        {
          "output_type": "execute_result",
          "data": {
            "text/plain": [
              "array([[0, 1, 2],\n",
              "       [3, 4, 5]])"
            ]
          },
          "metadata": {
            "tags": []
          },
          "execution_count": 14
        }
      ]
    },
    {
      "cell_type": "code",
      "metadata": {
        "id": "_pGIzfdNny9W",
        "colab_type": "code",
        "outputId": "140be8d6-940d-4dcb-fafd-3cae5f256d37",
        "colab": {
          "base_uri": "https://localhost:8080/",
          "height": 34
        }
      },
      "source": [
        "b.ndim"
      ],
      "execution_count": 15,
      "outputs": [
        {
          "output_type": "execute_result",
          "data": {
            "text/plain": [
              "2"
            ]
          },
          "metadata": {
            "tags": []
          },
          "execution_count": 15
        }
      ]
    },
    {
      "cell_type": "code",
      "metadata": {
        "id": "xjyFTX3Tn60h",
        "colab_type": "code",
        "outputId": "b8addea5-aba7-4f50-9c9e-8b16cd2dff70",
        "colab": {
          "base_uri": "https://localhost:8080/",
          "height": 34
        }
      },
      "source": [
        "b.shape"
      ],
      "execution_count": 16,
      "outputs": [
        {
          "output_type": "execute_result",
          "data": {
            "text/plain": [
              "(2, 3)"
            ]
          },
          "metadata": {
            "tags": []
          },
          "execution_count": 16
        }
      ]
    },
    {
      "cell_type": "code",
      "metadata": {
        "id": "9aS5MxHln9yf",
        "colab_type": "code",
        "outputId": "73ce0525-0ccc-4a9a-ad93-acaf117863eb",
        "colab": {
          "base_uri": "https://localhost:8080/",
          "height": 34
        }
      },
      "source": [
        "\n",
        "len(b)    # regresa el tamaño de la \"primera\" dimensión"
      ],
      "execution_count": 17,
      "outputs": [
        {
          "output_type": "execute_result",
          "data": {
            "text/plain": [
              "2"
            ]
          },
          "metadata": {
            "tags": []
          },
          "execution_count": 17
        }
      ]
    },
    {
      "cell_type": "markdown",
      "metadata": {
        "id": "eNHvCn2X0yA_",
        "colab_type": "text"
      },
      "source": [
        "### Operaciones con matrices"
      ]
    },
    {
      "cell_type": "markdown",
      "metadata": {
        "id": "8Y26pQdO1UM7",
        "colab_type": "text"
      },
      "source": [
        "> Todas las operaciones aritméticas con escalares se maneja por elementos."
      ]
    },
    {
      "cell_type": "code",
      "metadata": {
        "id": "v6Z5JqAy1aML",
        "colab_type": "code",
        "colab": {}
      },
      "source": [
        "a = np.array([1, 2, 3, 4])"
      ],
      "execution_count": 0,
      "outputs": []
    },
    {
      "cell_type": "code",
      "metadata": {
        "id": "Zw4ieGQs1cZs",
        "colab_type": "code",
        "colab": {
          "base_uri": "https://localhost:8080/",
          "height": 34
        },
        "outputId": "b3494166-6c8a-4252-91df-a115105cd966"
      },
      "source": [
        "a + 1    # Suma de una matriz y un escalar"
      ],
      "execution_count": 19,
      "outputs": [
        {
          "output_type": "execute_result",
          "data": {
            "text/plain": [
              "array([2, 3, 4, 5])"
            ]
          },
          "metadata": {
            "tags": []
          },
          "execution_count": 19
        }
      ]
    },
    {
      "cell_type": "code",
      "metadata": {
        "id": "ibJTcWO61eRP",
        "colab_type": "code",
        "colab": {
          "base_uri": "https://localhost:8080/",
          "height": 34
        },
        "outputId": "5bb360d2-5774-4541-daa5-b5f315a6256d"
      },
      "source": [
        "a * 5    # Producto por un escalar"
      ],
      "execution_count": 20,
      "outputs": [
        {
          "output_type": "execute_result",
          "data": {
            "text/plain": [
              "array([ 5, 10, 15, 20])"
            ]
          },
          "metadata": {
            "tags": []
          },
          "execution_count": 20
        }
      ]
    },
    {
      "cell_type": "code",
      "metadata": {
        "id": "qYO17MQI1gEa",
        "colab_type": "code",
        "colab": {
          "base_uri": "https://localhost:8080/",
          "height": 34
        },
        "outputId": "dcc9fd7d-127e-4380-c9d8-fe199f505391"
      },
      "source": [
        "a**2    # Matriz elevado a un escalar"
      ],
      "execution_count": 21,
      "outputs": [
        {
          "output_type": "execute_result",
          "data": {
            "text/plain": [
              "array([ 1,  4,  9, 16])"
            ]
          },
          "metadata": {
            "tags": []
          },
          "execution_count": 21
        }
      ]
    },
    {
      "cell_type": "code",
      "metadata": {
        "id": "1ja8cLcQ1nHX",
        "colab_type": "code",
        "colab": {
          "base_uri": "https://localhost:8080/",
          "height": 34
        },
        "outputId": "7c4b8156-635c-4232-a7ec-5ec992e4275a"
      },
      "source": [
        "2**a    # Escalar elevado a una matriz"
      ],
      "execution_count": 22,
      "outputs": [
        {
          "output_type": "execute_result",
          "data": {
            "text/plain": [
              "array([ 2,  4,  8, 16])"
            ]
          },
          "metadata": {
            "tags": []
          },
          "execution_count": 22
        }
      ]
    },
    {
      "cell_type": "markdown",
      "metadata": {
        "id": "t3YPUUva2fH3",
        "colab_type": "text"
      },
      "source": [
        "**Multiplicación de arrays NO es lo mismo que multiplicación de matrices**\n",
        "\n",
        "En Numpy, al multiplicar `array * array` se limita a multiplicar los valores que se encuentran en la misma posición."
      ]
    },
    {
      "cell_type": "code",
      "metadata": {
        "id": "jXITiKEB2y19",
        "colab_type": "code",
        "colab": {
          "base_uri": "https://localhost:8080/",
          "height": 68
        },
        "outputId": "9fba6399-bf61-472f-9b1f-6f24bccd281a"
      },
      "source": [
        "b = np.ones((3,3))\n",
        "b"
      ],
      "execution_count": 23,
      "outputs": [
        {
          "output_type": "execute_result",
          "data": {
            "text/plain": [
              "array([[1., 1., 1.],\n",
              "       [1., 1., 1.],\n",
              "       [1., 1., 1.]])"
            ]
          },
          "metadata": {
            "tags": []
          },
          "execution_count": 23
        }
      ]
    },
    {
      "cell_type": "code",
      "metadata": {
        "id": "fqOGOdB_3ZYG",
        "colab_type": "code",
        "colab": {
          "base_uri": "https://localhost:8080/",
          "height": 68
        },
        "outputId": "7ce4a9b7-c31f-4395-9f4b-38d84408ef57"
      },
      "source": [
        "b * b"
      ],
      "execution_count": 24,
      "outputs": [
        {
          "output_type": "execute_result",
          "data": {
            "text/plain": [
              "array([[1., 1., 1.],\n",
              "       [1., 1., 1.],\n",
              "       [1., 1., 1.]])"
            ]
          },
          "metadata": {
            "tags": []
          },
          "execution_count": 24
        }
      ]
    },
    {
      "cell_type": "code",
      "metadata": {
        "id": "57HJfHPT51vF",
        "colab_type": "code",
        "colab": {
          "base_uri": "https://localhost:8080/",
          "height": 68
        },
        "outputId": "65af1700-c04f-4fb7-c98b-a38471cf93e3"
      },
      "source": [
        "b.dot(b)    # Multiplicación de Matrices"
      ],
      "execution_count": 25,
      "outputs": [
        {
          "output_type": "execute_result",
          "data": {
            "text/plain": [
              "array([[3., 3., 3.],\n",
              "       [3., 3., 3.],\n",
              "       [3., 3., 3.]])"
            ]
          },
          "metadata": {
            "tags": []
          },
          "execution_count": 25
        }
      ]
    },
    {
      "cell_type": "markdown",
      "metadata": {
        "id": "nn8PeEJv7zDN",
        "colab_type": "text"
      },
      "source": [
        "> `numpy.linalg` implementa álgebra lineal básica, como la resolución de sistemas lineales, descomposición de valores singulares, etc."
      ]
    },
    {
      "cell_type": "markdown",
      "metadata": {
        "id": "0ewFyvqHM3Ww",
        "colab_type": "text"
      },
      "source": [
        "### Manipulación de forma"
      ]
    },
    {
      "cell_type": "code",
      "metadata": {
        "id": "NHb9OaLQNLmT",
        "colab_type": "code",
        "colab": {
          "base_uri": "https://localhost:8080/",
          "height": 34
        },
        "outputId": "c27efd6e-b85b-472d-a488-f2c7e8afee25"
      },
      "source": [
        "# Flattening\n",
        "\n",
        "a = np.array([[1, 2, 3], [4, 5, 6]])\n",
        "a.ravel()"
      ],
      "execution_count": 26,
      "outputs": [
        {
          "output_type": "execute_result",
          "data": {
            "text/plain": [
              "array([1, 2, 3, 4, 5, 6])"
            ]
          },
          "metadata": {
            "tags": []
          },
          "execution_count": 26
        }
      ]
    },
    {
      "cell_type": "code",
      "metadata": {
        "id": "c6ei_OphNS8n",
        "colab_type": "code",
        "colab": {
          "base_uri": "https://localhost:8080/",
          "height": 51
        },
        "outputId": "576c412c-6e02-4df3-9192-14b8b4f57943"
      },
      "source": [
        "# Reshaping (inverso de Flattening)\n",
        "\n",
        "b = a.ravel()\n",
        "b.reshape((2,3))    # Toma como input un tuple de las nuevas dimensiones"
      ],
      "execution_count": 27,
      "outputs": [
        {
          "output_type": "execute_result",
          "data": {
            "text/plain": [
              "array([[1, 2, 3],\n",
              "       [4, 5, 6]])"
            ]
          },
          "metadata": {
            "tags": []
          },
          "execution_count": 27
        }
      ]
    },
    {
      "cell_type": "code",
      "metadata": {
        "id": "45RXlrbZOnPd",
        "colab_type": "code",
        "colab": {
          "base_uri": "https://localhost:8080/",
          "height": 34
        },
        "outputId": "c4f450fb-0cfa-4e5d-8999-d9e486baecd3"
      },
      "source": [
        "# Resizing\n",
        "# No se puede utilizar si el array está siendo referenciado\n",
        "\n",
        "a = np.arange(4)\n",
        "a.resize((8,))\n",
        "a"
      ],
      "execution_count": 28,
      "outputs": [
        {
          "output_type": "execute_result",
          "data": {
            "text/plain": [
              "array([0, 1, 2, 3, 0, 0, 0, 0])"
            ]
          },
          "metadata": {
            "tags": []
          },
          "execution_count": 28
        }
      ]
    },
    {
      "cell_type": "markdown",
      "metadata": {
        "id": "25wIYwPKO9lW",
        "colab_type": "text"
      },
      "source": [
        "### Ordenamiento de Datos"
      ]
    },
    {
      "cell_type": "code",
      "metadata": {
        "id": "Lw4OqksgO_2i",
        "colab_type": "code",
        "colab": {
          "base_uri": "https://localhost:8080/",
          "height": 51
        },
        "outputId": "215115e1-1cdd-4b9d-da82-2a02752991d4"
      },
      "source": [
        "# En un eje\n",
        "\n",
        "a = np.array([[4, 3, 5],\n",
        "              [1, 2, 1]])\n",
        "b = np.sort(a, axis=1)\n",
        "b"
      ],
      "execution_count": 29,
      "outputs": [
        {
          "output_type": "execute_result",
          "data": {
            "text/plain": [
              "array([[3, 4, 5],\n",
              "       [1, 1, 2]])"
            ]
          },
          "metadata": {
            "tags": []
          },
          "execution_count": 29
        }
      ]
    },
    {
      "cell_type": "markdown",
      "metadata": {
        "id": "sAjZblT0LqwS",
        "colab_type": "text"
      },
      "source": [
        "### Broadcasting\n",
        "\n",
        "En álgebra lineal tradicional no pueden hacerse operaciones aritméticas con matrices de diferentes dimensiones.\n",
        "\n",
        "NumPy sí puede hacerlo transformando automáticamente los arrays para que todos tengan el mismo tamaño, este proceso es llamado: **broadcasting**.\n",
        "\n",
        "![broadcasting](http://scipy-lectures.org/_images/numpy_broadcasting.png)\n",
        "\n",
        "Para una discusión más a profundidad de este proceso puedes visitar la lección de [broadcasting](http://scipy-lectures.org/advanced/advanced_numpy/index.html#broadcasting-advanced) de las **SciPy Lectures**."
      ]
    },
    {
      "cell_type": "markdown",
      "metadata": {
        "id": "hiqjjUAVh_Eh",
        "colab_type": "text"
      },
      "source": [
        "### Array Visualization (with matplotlib)"
      ]
    },
    {
      "cell_type": "markdown",
      "metadata": {
        "id": "hRRlgr53hpfN",
        "colab_type": "text"
      },
      "source": [
        "#### 1D Plotting"
      ]
    },
    {
      "cell_type": "code",
      "metadata": {
        "scrolled": true,
        "id": "nbnCtd-7hpfQ",
        "colab_type": "code",
        "outputId": "25090485-d1dc-4349-ffd1-c01f72a7b74c",
        "colab": {
          "base_uri": "https://localhost:8080/",
          "height": 286
        }
      },
      "source": [
        "x = np.linspace(0, 3, 20)\n",
        "y = np.linspace(0, 9, 20)\n",
        "plt.plot(x, y)       # line plot    \n",
        "\n",
        "plt.plot(x, y, 'o')  # dot plot"
      ],
      "execution_count": 30,
      "outputs": [
        {
          "output_type": "execute_result",
          "data": {
            "text/plain": [
              "[<matplotlib.lines.Line2D at 0x7f777d73ad68>]"
            ]
          },
          "metadata": {
            "tags": []
          },
          "execution_count": 30
        },
        {
          "output_type": "display_data",
          "data": {
            "image/png": "[encoded data removed]",
            "text/plain": [
              "<Figure size 432x288 with 1 Axes>"
            ]
          },
          "metadata": {
            "tags": []
          }
        }
      ]
    },
    {
      "cell_type": "markdown",
      "metadata": {
        "id": "3Aaz3kNjhpfW",
        "colab_type": "text"
      },
      "source": [
        "#### 2D Plot"
      ]
    },
    {
      "cell_type": "code",
      "metadata": {
        "id": "oWmcwOEKhpfZ",
        "colab_type": "code",
        "outputId": "798933d8-040b-4252-ad5b-7a5507f1e402",
        "colab": {
          "base_uri": "https://localhost:8080/",
          "height": 286
        }
      },
      "source": [
        "image = np.random.rand(30, 30)\n",
        "plt.imshow(image, cmap=plt.cm.hot)    \n",
        "\n",
        "plt.colorbar()"
      ],
      "execution_count": 31,
      "outputs": [
        {
          "output_type": "execute_result",
          "data": {
            "text/plain": [
              "<matplotlib.colorbar.Colorbar at 0x7f777abc4630>"
            ]
          },
          "metadata": {
            "tags": []
          },
          "execution_count": 31
        },
        {
          "output_type": "display_data",
          "data": {
            "image/png": "[encoded data removed]",
            "text/plain": [
              "<Figure size 432x288 with 2 Axes>"
            ]
          },
          "metadata": {
            "tags": []
          }
        }
      ]
    },
    {
      "cell_type": "markdown",
      "metadata": {
        "id": "Dg99qPCm8vqb",
        "colab_type": "text"
      },
      "source": [
        "### Ejemplo: Difusión mediante un algoritmo de desplazamiento aleatorio\n",
        "\n",
        "Consideremos un simple proceso de salto aleatorio en 1D: en cada paso un \"caminante\" salta a la derecha o a la izquierda con igual probabilidad.\n",
        "\n",
        "Estamos interesados en encontrar la distancia típica desde el origen de un caminante al azar después de `t` saltos a la izquierda o a la derecha. Vamos a simular a muchos \"caminantes\" para encontrar esta ley, usando computación en array: vamos a crear un array 2D con las \"historias\" (cada caminante tiene una historia) en una dirección, y el tiempo en la otra:"
      ]
    },
    {
      "cell_type": "code",
      "metadata": {
        "id": "9v9hIweq9wck",
        "colab_type": "code",
        "colab": {
          "base_uri": "https://localhost:8080/",
          "height": 34
        },
        "outputId": "8a8b796d-edc5-464e-f30c-385c0bde02e6"
      },
      "source": [
        "n_stories = 1000 # número de caminantes\n",
        "t_max = 200      # tiempo en el que seguimos al caminante\n",
        "\n",
        "t = np.arange(t_max)\n",
        "steps = 2 * np.random.randint(0, 1 + 1, (n_stories, t_max)) - 1\n",
        "\n",
        "np.random.randint(0,1+1, (n_stories, t_max))\n",
        "\n",
        "np.unique(steps)    # Regresa todos los valores únicos de nuestro array. Verificar que todos sean -1 ó 1"
      ],
      "execution_count": 32,
      "outputs": [
        {
          "output_type": "execute_result",
          "data": {
            "text/plain": [
              "array([-1,  1])"
            ]
          },
          "metadata": {
            "tags": []
          },
          "execution_count": 32
        }
      ]
    },
    {
      "cell_type": "code",
      "metadata": {
        "id": "ri8EL0ZADt55",
        "colab_type": "code",
        "colab": {
          "base_uri": "https://localhost:8080/",
          "height": 225
        },
        "outputId": "e9c2a8ba-a825-4ade-d590-68894160fe5a"
      },
      "source": [
        "# Construimos las caminatas sumando pasos a lo largo del tiempo:\n",
        "positions = np.cumsum(steps, axis=1)   # axis = 1: tiempo\n",
        "sq_distance = positions**2\n",
        "\n",
        "# Obtenemos la media en el eje de las historias:\n",
        "mean_sq_distance = np.mean(sq_distance, axis=0)\n",
        "\n",
        "# Y graficamos los resultados\n",
        "plt.figure(figsize=(4, 3)) \n",
        "\n",
        "plt.plot(t, np.sqrt(mean_sq_distance), 'g.', t, np.sqrt(t), 'y-') \n",
        "\n",
        "plt.xlabel(r\"$t$\") \n",
        "\n",
        "plt.ylabel(r\"$\\sqrt{\\langle (\\delta x)^2 \\rangle}$\") \n",
        "\n",
        "plt.tight_layout()"
      ],
      "execution_count": 33,
      "outputs": [
        {
          "output_type": "display_data",
          "data": {
            "image/png": "[encoded data removed]",
            "text/plain": [
              "<Figure size 288x216 with 1 Axes>"
            ]
          },
          "metadata": {
            "tags": []
          }
        }
      ]
    }
  ]
}